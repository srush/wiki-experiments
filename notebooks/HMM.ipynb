{
 "metadata": {
  "name": ""
 },
 "nbformat": 3,
 "nbformat_minor": 0,
 "worksheets": [
  {
   "cells": [
    {
     "cell_type": "code",
     "collapsed": false,
     "input": [
      "import theano\n",
      "from theano import config\n",
      "import theano.tensor as T\n",
      "import numpy as np\n",
      "import numpy.random"
     ],
     "language": "python",
     "outputs": [],
     "prompt_number": 6
    },
    {
     "cell_type": "code",
     "collapsed": false,
     "input": [
      "x = T.fvector(\"x\")\n",
      "\n",
      "constraint = "
     ],
     "language": "python",
     "outputs": []
    },
    {
     "cell_type": "code",
     "collapsed": false,
     "input": [
      "numpy.random.random(10) - 10"
     ],
     "language": "python",
     "outputs": [
      {
       "output_type": "pyout",
       "prompt_number": 26,
       "text": [
        "array([-9.24959038, -9.86836341, -9.99710067, -9.01311099, -9.01663541,\n",
        "       -9.12147703, -9.76597722, -9.4363722 , -9.74939788, -9.54455401])"
       ]
      }
     ],
     "prompt_number": 26
    },
    {
     "cell_type": "code",
     "collapsed": false,
     "input": [
      "#chart = T.fmatrix(\"chart\")\n",
      "class HMM:\n",
      "    def __init__(self, n_states):\n",
      "        self.transitions = theano.shared(numpy.random.random((n_states, n_states)))\n",
      "        self.n_states = n_states\n",
      "        self.states = numpy.arange(n_states)\n",
      "\n",
      "    def dp(self, n):\n",
      "        chart = {}\n",
      "        chart[0] = T.fvector()\n",
      "        chart[0] = 0.0\n",
      "        for i in range(1, n):\n",
      "            for state in range(self.n_states):\n",
      "                chart[i, state] = T.fscalar()\n",
      "                chart[i, state] = T.max([chart[i-1, prev_state] + \\\n",
      "                                             self.transitions[prev_state, state]\n",
      "                                         for prev_state in self.states])\n",
      "        return chart[n-1, 0]\n",
      "                   "
     ],
     "language": "python",
     "outputs": [],
     "prompt_number": 171
    },
    {
     "cell_type": "code",
     "collapsed": false,
     "input": [
      "hmm = HMM(10)\n",
      "dp = hmm.dp(10)"
     ],
     "language": "python",
     "outputs": [],
     "prompt_number": 173
    },
    {
     "cell_type": "code",
     "collapsed": false,
     "input": [
      "a = theano.function([], dp)"
     ],
     "language": "python",
     "outputs": [],
     "prompt_number": "*"
    },
    {
     "cell_type": "code",
     "collapsed": false,
     "input": [
      "class LP:\n",
      "    def __init__(self, x_size=10):\n",
      "        self.W = theano.shared(numpy.random.random(x_size) - 0.5)\n",
      "        self.lambd =  theano.shared(0.0)\n",
      "        self.x_size = 10\n",
      "\n",
      "    def argmax(self):\n",
      "        weights = self.W - (np.ones(self.x_size) * self.lambd)\n",
      "        return (weights > 0)\n",
      "\n",
      "    def objective(self):\n",
      "        x_hat = self.argmax()\n",
      "        return T.dot(x_hat, (self.W - self.lambd)) + 2* self.lambd            "
     ],
     "language": "python",
     "outputs": [],
     "prompt_number": 117
    },
    {
     "cell_type": "code",
     "collapsed": false,
     "input": [
      "lp = LP()\n",
      "a = theano.function([],lp.argmax())"
     ],
     "language": "python",
     "outputs": [],
     "prompt_number": 130
    },
    {
     "cell_type": "code",
     "collapsed": false,
     "input": [
      "a()"
     ],
     "language": "python",
     "outputs": [
      {
       "output_type": "pyout",
       "prompt_number": 70,
       "text": [
        "array([1, 1, 1, 1, 0, 1, 1, 0, 1, 1], dtype=int8)"
       ]
      }
     ],
     "prompt_number": 70
    },
    {
     "cell_type": "code",
     "collapsed": false,
     "input": [
      "b = theano.function([],lp.objective())"
     ],
     "language": "python",
     "outputs": [],
     "prompt_number": 73
    },
    {
     "cell_type": "code",
     "collapsed": false,
     "input": [
      "g = T.grad(lp.objective(), lp.lambd)"
     ],
     "language": "python",
     "outputs": [],
     "prompt_number": 132
    },
    {
     "cell_type": "code",
     "collapsed": false,
     "input": [
      "objective = lp.objective()\n",
      "argm = lp.argmax()"
     ],
     "language": "python",
     "outputs": [],
     "prompt_number": 131
    },
    {
     "cell_type": "code",
     "collapsed": false,
     "input": [
      "rate = theano.shared(1.0)\n",
      "update_fn = theano.function([], [objective, argm, g], \n",
      "                            updates=[(lp.lambd, lp.lambd - rate * g),\n",
      "                                     (rate, rate * 0.9)])"
     ],
     "language": "python",
     "outputs": [],
     "prompt_number": 137
    },
    {
     "cell_type": "code",
     "collapsed": false,
     "input": [
      "for i in range(50):\n",
      "    print update_fn()"
     ],
     "language": "python",
     "outputs": [
      {
       "output_type": "stream",
       "stream": "stdout",
       "text": [
        "[array(1.2108047545203573), array([0, 0, 0, 0, 0, 0, 1, 1, 1, 1], dtype=int8), array(-2.0)]\n",
        "[array(1.3238513643999983), array([0, 0, 0, 0, 0, 0, 0, 0, 0, 0], dtype=int8), array(2.0)]\n",
        "[array(1.0794585255410636), array([0, 0, 0, 0, 0, 0, 1, 1, 0, 1], dtype=int8), array(-1.0)]\n",
        "[array(0.7970289890600635), array([0, 0, 0, 0, 0, 0, 1, 1, 0, 1], dtype=int8), array(-1.0)]\n",
        "[array(1.1418412186677982), array([0, 0, 0, 0, 0, 0, 0, 0, 0, 0], dtype=int8), array(2.0)]\n",
        "[array(1.0003782553263836), array([0, 0, 0, 0, 0, 0, 1, 1, 0, 1], dtype=int8), array(-1.0)]\n",
        "[array(0.7944871232317345), array([0, 0, 0, 0, 0, 0, 1, 1, 0, 1], dtype=int8), array(-1.0)]\n",
        "[array(1.0091558224290242), array([0, 0, 0, 0, 0, 0, 0, 0, 0, 0], dtype=int8), array(2.0)]\n",
        "[array(0.9427287383398819), array([0, 0, 0, 0, 0, 0, 1, 1, 0, 1], dtype=int8), array(-1.0)]\n",
        "[array(0.7926341030428827), array([0, 0, 0, 0, 0, 0, 1, 1, 0, 1], dtype=int8), array(-1.0)]\n",
        "[array(0.9124281685709581), array([0, 0, 0, 0, 0, 0, 0, 0, 0, 0], dtype=int8), array(2.0)]\n",
        "[array(0.9007022404567222), array([0, 0, 0, 0, 0, 0, 1, 1, 0, 1], dtype=int8), array(-1.0)]\n",
        "[array(0.7925982478954129), array([0, 0, 0, 0, 0, 0, 1, 1, 0, 0], dtype=int8), array(0.0)]\n",
        "[array(0.7925982478954129), array([0, 0, 0, 0, 0, 0, 1, 1, 0, 0], dtype=int8), array(0.0)]\n",
        "[array(0.7925982478954129), array([0, 0, 0, 0, 0, 0, 1, 1, 0, 0], dtype=int8), array(0.0)]\n",
        "[array(0.7925982478954129), array([0, 0, 0, 0, 0, 0, 1, 1, 0, 0], dtype=int8), array(0.0)]\n",
        "[array(0.7925982478954129), array([0, 0, 0, 0, 0, 0, 1, 1, 0, 0], dtype=int8), array(0.0)]\n",
        "[array(0.7925982478954129), array([0, 0, 0, 0, 0, 0, 1, 1, 0, 0], dtype=int8), array(0.0)]\n",
        "[array(0.7925982478954129), array([0, 0, 0, 0, 0, 0, 1, 1, 0, 0], dtype=int8), array(0.0)]\n",
        "[array(0.7925982478954129), array([0, 0, 0, 0, 0, 0, 1, 1, 0, 0], dtype=int8), array(0.0)]\n",
        "[array(0.7925982478954129), array([0, 0, 0, 0, 0, 0, 1, 1, 0, 0], dtype=int8), array(0.0)]\n",
        "[array(0.7925982478954129), array([0, 0, 0, 0, 0, 0, 1, 1, 0, 0], dtype=int8), array(0.0)]\n",
        "[array(0.7925982478954129), array([0, 0, 0, 0, 0, 0, 1, 1, 0, 0], dtype=int8), array(0.0)]\n",
        "[array(0.7925982478954129), array([0, 0, 0, 0, 0, 0, 1, 1, 0, 0], dtype=int8), array(0.0)]\n",
        "[array(0.7925982478954129), array([0, 0, 0, 0, 0, 0, 1, 1, 0, 0], dtype=int8), array(0.0)]\n",
        "[array(0.7925982478954129), array([0, 0, 0, 0, 0, 0, 1, 1, 0, 0], dtype=int8), array(0.0)]\n",
        "[array(0.7925982478954129), array([0, 0, 0, 0, 0, 0, 1, 1, 0, 0], dtype=int8), array(0.0)]\n",
        "[array(0.7925982478954129), array([0, 0, 0, 0, 0, 0, 1, 1, 0, 0], dtype=int8), array(0.0)]\n",
        "[array(0.7925982478954129), array([0, 0, 0, 0, 0, 0, 1, 1, 0, 0], dtype=int8), array(0.0)]\n",
        "[array(0.7925982478954129), array([0, 0, 0, 0, 0, 0, 1, 1, 0, 0], dtype=int8), array(0.0)]"
       ]
      },
      {
       "output_type": "stream",
       "stream": "stdout",
       "text": [
        "\n",
        "[array(0.7925982478954129), array([0, 0, 0, 0, 0, 0, 1, 1, 0, 0], dtype=int8), array(0.0)]\n",
        "[array(0.7925982478954129), array([0, 0, 0, 0, 0, 0, 1, 1, 0, 0], dtype=int8), array(0.0)]\n",
        "[array(0.7925982478954129), array([0, 0, 0, 0, 0, 0, 1, 1, 0, 0], dtype=int8), array(0.0)]\n",
        "[array(0.7925982478954129), array([0, 0, 0, 0, 0, 0, 1, 1, 0, 0], dtype=int8), array(0.0)]\n",
        "[array(0.7925982478954129), array([0, 0, 0, 0, 0, 0, 1, 1, 0, 0], dtype=int8), array(0.0)]\n",
        "[array(0.7925982478954129), array([0, 0, 0, 0, 0, 0, 1, 1, 0, 0], dtype=int8), array(0.0)]\n",
        "[array(0.7925982478954129), array([0, 0, 0, 0, 0, 0, 1, 1, 0, 0], dtype=int8), array(0.0)]\n",
        "[array(0.7925982478954129), array([0, 0, 0, 0, 0, 0, 1, 1, 0, 0], dtype=int8), array(0.0)]\n",
        "[array(0.7925982478954129), array([0, 0, 0, 0, 0, 0, 1, 1, 0, 0], dtype=int8), array(0.0)]\n",
        "[array(0.7925982478954129), array([0, 0, 0, 0, 0, 0, 1, 1, 0, 0], dtype=int8), array(0.0)]\n",
        "[array(0.7925982478954129), array([0, 0, 0, 0, 0, 0, 1, 1, 0, 0], dtype=int8), array(0.0)]\n",
        "[array(0.7925982478954129), array([0, 0, 0, 0, 0, 0, 1, 1, 0, 0], dtype=int8), array(0.0)]\n",
        "[array(0.7925982478954129), array([0, 0, 0, 0, 0, 0, 1, 1, 0, 0], dtype=int8), array(0.0)]\n",
        "[array(0.7925982478954129), array([0, 0, 0, 0, 0, 0, 1, 1, 0, 0], dtype=int8), array(0.0)]\n",
        "[array(0.7925982478954129), array([0, 0, 0, 0, 0, 0, 1, 1, 0, 0], dtype=int8), array(0.0)]\n",
        "[array(0.7925982478954129), array([0, 0, 0, 0, 0, 0, 1, 1, 0, 0], dtype=int8), array(0.0)]\n",
        "[array(0.7925982478954129), array([0, 0, 0, 0, 0, 0, 1, 1, 0, 0], dtype=int8), array(0.0)]\n",
        "[array(0.7925982478954129), array([0, 0, 0, 0, 0, 0, 1, 1, 0, 0], dtype=int8), array(0.0)]\n",
        "[array(0.7925982478954129), array([0, 0, 0, 0, 0, 0, 1, 1, 0, 0], dtype=int8), array(0.0)]\n",
        "[array(0.7925982478954129), array([0, 0, 0, 0, 0, 0, 1, 1, 0, 0], dtype=int8), array(0.0)]\n"
       ]
      }
     ],
     "prompt_number": 139
    }
   ]
  }
 ]
}